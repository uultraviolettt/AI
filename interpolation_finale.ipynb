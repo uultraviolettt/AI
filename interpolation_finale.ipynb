{
 "cells": [
  {
   "cell_type": "code",
   "execution_count": 1,
   "id": "exterior-thumb",
   "metadata": {},
   "outputs": [],
   "source": [
    "import numpy as np\n",
    "import math\n",
    "import matplotlib.pyplot as plt\n",
    "import spline as spl\n",
    "import newt\n",
    "from target_func import f as f "
   ]
  },
  {
   "cell_type": "markdown",
   "id": "noted-vermont",
   "metadata": {},
   "source": [
    "## Ньютон"
   ]
  },
  {
   "cell_type": "markdown",
   "id": "bigger-beast",
   "metadata": {},
   "source": [
    "**Варіант 6**"
   ]
  },
  {
   "cell_type": "markdown",
   "id": "turned-vampire",
   "metadata": {},
   "source": [
    "$$ f(x)=\\left\\{\\begin{array}{l}\n",
    "(x+1)^{2}+1,-3 \\leq x \\leq 0 \\\\\n",
    "1-8(x-0,5)^{3}, 0 \\leq x \\leq 1 \\\\\n",
    "x-1, \\quad 1 \\leq x \\leq 3\n",
    "\\end{array}\\right. $$"
   ]
  },
  {
   "cell_type": "markdown",
   "id": "phantom-adventure",
   "metadata": {},
   "source": [
    "**Chebyshev points**\n",
    "$$ x_{k}=\\frac{1}{2}(a+b)+\\frac{1}{2}(b-a) \\cos \\left(\\frac{2 k-1}{2 n} \\pi\\right), \\quad k=0, \\ldots, n $$"
   ]
  },
  {
   "cell_type": "code",
   "execution_count": 2,
   "id": "defensive-flashing",
   "metadata": {},
   "outputs": [],
   "source": [
    "def g(x):\n",
    "    return (x-3)**2 - 4*np.abs(x-3) + 5"
   ]
  },
  {
   "cell_type": "code",
   "execution_count": 3,
   "id": "green-hollow",
   "metadata": {},
   "outputs": [],
   "source": [
    "def cheb_nodes(left, right, n):\n",
    "    return np.array([\n",
    "        (1/2 * (left + right)) \n",
    "            + ((1 / 2 * (right - left)) * math.cos((2 * k - 1) * math.pi / (2 * n)))\n",
    "           for k in range(1, n + 1)])\n",
    "\n",
    "def eq_nodes(left, right, n):\n",
    "    if left > right:\n",
    "        print(\"wrong\")\n",
    "    return np.linspace(left, right, n)"
   ]
  },
  {
   "cell_type": "code",
   "execution_count": 4,
   "id": "dried-warning",
   "metadata": {},
   "outputs": [],
   "source": [
    "n_degree = 10\n",
    "\n",
    "n_nodes = n_degree + 1\n",
    "left = -3\n",
    "right = 3\n",
    "\n",
    "eq_nodes_x = eq_nodes(left, right, n_nodes)\n",
    "eq_nodes_y = [f(x) for x in eq_nodes_x]\n",
    "\n",
    "cheb_nodes_x = cheb_nodes(left, right, n_nodes)\n",
    "cheb_nodes_y = [f(x) for x in cheb_nodes_x]"
   ]
  },
  {
   "cell_type": "code",
   "execution_count": 5,
   "id": "quarterly-scroll",
   "metadata": {},
   "outputs": [
    {
     "name": "stdout",
     "output_type": "stream",
     "text": [
      "Рівновіддалені вузли\n",
      "i        x_i        f(x_i)    \n",
      "0        -3.0       5.0       \n",
      "1        -2.4       2.96      \n",
      "2        -1.8       1.64      \n",
      "3        -1.2       1.04      \n",
      "4        -0.6       1.16      \n",
      "5        0.0        2.0       \n",
      "6        0.6        0.99      \n",
      "7        1.2        0.2       \n",
      "8        1.8        0.8       \n",
      "9        2.4        1.4       \n",
      "10       3.0        2.0       \n"
     ]
    }
   ],
   "source": [
    "# for print\n",
    "print(\"Рівновіддалені вузли\")\n",
    "print(\"{:<8} {:<10} {:<10}\".format(\"i\",\"x_i\", \"f(x_i)\"))\n",
    "d_eq = dict(zip(eq_nodes_x, eq_nodes_y))\n",
    "i = 0\n",
    "for key in d_eq:\n",
    "    print(\"{:<8} {:<10} {:<10}\".format(i, round(key,2), round(d_eq[key],2)))\n",
    "    i += 1"
   ]
  },
  {
   "cell_type": "code",
   "execution_count": 6,
   "id": "african-solid",
   "metadata": {},
   "outputs": [
    {
     "name": "stdout",
     "output_type": "stream",
     "text": [
      "Чебишовські вузли\n",
      "i        x_i        f(x_i)    \n",
      "0        -2.97      4.88      \n",
      "1        -2.73      3.99      \n",
      "2        -2.27      2.61      \n",
      "3        -1.62      1.39      \n",
      "4        -0.85      1.02      \n",
      "5        0.0        2.0       \n",
      "6        0.85       0.67      \n",
      "7        1.62       0.62      \n",
      "8        2.27       1.27      \n",
      "9        2.73       1.73      \n",
      "10       2.97       1.97      \n"
     ]
    }
   ],
   "source": [
    "# for print\n",
    "print(\"Чебишовські вузли\")\n",
    "print(\"{:<8} {:<10} {:<10}\".format(\"i\",\"x_i\", \"f(x_i)\"))\n",
    "d_eq = dict(zip(cheb_nodes_x[::-1], cheb_nodes_y[::-1]))\n",
    "i = 0\n",
    "for key in d_eq:\n",
    "    print(\"{:<8} {:<10} {:<10}\".format(i, round(key,2), round(d_eq[key],2)))\n",
    "    i += 1"
   ]
  },
  {
   "cell_type": "code",
   "execution_count": 7,
   "id": "latin-graham",
   "metadata": {},
   "outputs": [],
   "source": [
    "c_equal = newt.div_diff(eq_nodes_x, eq_nodes_y)[0,:]\n",
    "c_cheb = newt.div_diff(cheb_nodes_x, cheb_nodes_y)[0,:]"
   ]
  },
  {
   "cell_type": "code",
   "execution_count": 8,
   "id": "alternative-swing",
   "metadata": {},
   "outputs": [],
   "source": [
    "x_data = np.arange(left, right, 0.01)\n",
    "y_data = np.array([f(x) for x in x_data])\n",
    "\n",
    "y_data_eq_nodes = np.array([newt.newton_poly(c_equal, eq_nodes_x, x) for x in x_data])\n",
    "y_data_cheb_nodes = np.array([newt.newton_poly(c_cheb, cheb_nodes_x, x) for x in x_data])"
   ]
  },
  {
   "cell_type": "code",
   "execution_count": 9,
   "id": "committed-primary",
   "metadata": {},
   "outputs": [
    {
     "name": "stdout",
     "output_type": "stream",
     "text": [
      "Using matplotlib backend: Qt5Agg\n"
     ]
    },
    {
     "data": {
      "text/plain": [
       "<matplotlib.legend.Legend at 0x20e9bf61fd0>"
      ]
     },
     "execution_count": 9,
     "metadata": {},
     "output_type": "execute_result"
    }
   ],
   "source": [
    "plt.plot(x_data, y_data, label=r\"$f(x)$\")\n",
    "plt.plot(x_data, y_data_eq_nodes, label=r\"$P_n^E(x)$\")\n",
    "plt.plot(x_data, y_data_cheb_nodes, label=r\"$P_n^T(x)$\")\n",
    "plt.xlim(-3, 3)\n",
    "plt.ylim(-10, 10)\n",
    "#plt.scatter(eq_nodes_x, eq_nodes_y)\n",
    "plt.title(f\"Інтерполяція при n={n_nodes-1}\")\n",
    "# plt.xlabel(\"x\")\n",
    "# plt.ylabel(\"y\")\n",
    "plt.legend()\n",
    "\n",
    "#plt.savefig(f\"equal_nodes_f_and_p_{n_nodes}.png\", dpi=300)"
   ]
  },
  {
   "cell_type": "code",
   "execution_count": 10,
   "id": "introductory-compiler",
   "metadata": {},
   "outputs": [
    {
     "data": {
      "text/plain": [
       "<matplotlib.legend.Legend at 0x20ed5794a90>"
      ]
     },
     "execution_count": 10,
     "metadata": {},
     "output_type": "execute_result"
    }
   ],
   "source": [
    "plt.plot(x_data, y_data, label=r\"$f(x)$\")\n",
    "plt.plot(x_data, y_data_cheb_nodes, label=r\"$P_n^T(x)$\", zorder=1)\n",
    "#plt.scatter(cheb_nodes_x, cheb_nodes_y, zorder=2)\n",
    "plt.title(f\"Інтерполяція за чебишовськими вузлами при n={n_nodes-1}\")\n",
    "# plt.xlabel(\"x\")\n",
    "# plt.ylabel(\"y\")\n",
    "plt.legend()\n",
    "\n",
    "#plt.savefig(f\"cheb_nodes_f_{n_nodes}.png\", dpi=300)"
   ]
  },
  {
   "cell_type": "code",
   "execution_count": 11,
   "id": "frozen-title",
   "metadata": {},
   "outputs": [
    {
     "data": {
      "text/plain": [
       "<matplotlib.legend.Legend at 0x20e9bf922b0>"
      ]
     },
     "execution_count": 11,
     "metadata": {},
     "output_type": "execute_result"
    }
   ],
   "source": [
    "plt.plot(x_data, y_data - y_data_eq_nodes, label=r\"$f(x) - P_n^E(x)$\", color=\"tab:orange\")\n",
    "plt.plot(x_data, y_data - y_data_cheb_nodes, label=r\"$f(x) - P_n^T(x)$\", color=\"tab:green\")\n",
    "# plt.xlabel(\"x\")\n",
    "# plt.ylabel(\"y\")\n",
    "plt.title(f\"Похибка n={n_nodes-1}\")\n",
    "plt.axhline(0, color='black', ls=\"--\")\n",
    "plt.legend()\n",
    "\n",
    "#plt.savefig(f\"equal_nodes_error_{n_nodes}.png\", dpi=300)"
   ]
  },
  {
   "cell_type": "code",
   "execution_count": 12,
   "id": "earlier-consortium",
   "metadata": {},
   "outputs": [
    {
     "data": {
      "text/plain": [
       "<matplotlib.legend.Legend at 0x20e9bf92ee0>"
      ]
     },
     "execution_count": 12,
     "metadata": {},
     "output_type": "execute_result"
    }
   ],
   "source": [
    "plt.plot(x_data, y_data - y_data_cheb_nodes, label=r\"$f(x) - P_n^T(x)$\")\n",
    "# plt.xlabel(\"x\")\n",
    "# plt.ylabel(\"y\")\n",
    "plt.title(f\"Похибка за чебишовськми вузлами при n={n_nodes}\")\n",
    "plt.axhline(0, color='black', ls=\"--\")\n",
    "plt.legend()\n",
    "\n",
    "#plt.savefig(f\"cheb_nodes_error_{n_nodes}.png\", dpi=300)"
   ]
  },
  {
   "cell_type": "markdown",
   "id": "rising-jewel",
   "metadata": {},
   "source": [
    "# Сплайни"
   ]
  },
  {
   "cell_type": "code",
   "execution_count": 13,
   "id": "current-research",
   "metadata": {},
   "outputs": [],
   "source": [
    "n_intervals = 50\n",
    "n = n_intervals + 1\n",
    "\n",
    "x_nodes = np.linspace(-3, 3, n)\n",
    "y_nodes = [f(x) for x in x_nodes]\n",
    "\n",
    "A = spl.mat_a(x_nodes)\n",
    "H = spl.mat_h(x_nodes)\n",
    "f_ = y_nodes\n",
    "\n",
    "m_res = np.linalg.solve(A, H @ f_)"
   ]
  },
  {
   "cell_type": "code",
   "execution_count": 14,
   "id": "stylish-method",
   "metadata": {},
   "outputs": [
    {
     "data": {
      "text/plain": [
       "<matplotlib.collections.PathCollection at 0x20e9c03ed60>"
      ]
     },
     "execution_count": 14,
     "metadata": {},
     "output_type": "execute_result"
    }
   ],
   "source": [
    "plt.subplots(figsize=(6, 2))\n",
    "plt.plot(x_nodes, [0 for _ in x_nodes])\n",
    "plt.scatter(x_nodes, [0 for _ in x_nodes])"
   ]
  },
  {
   "cell_type": "markdown",
   "id": "historical-samuel",
   "metadata": {},
   "source": [
    "$$ Am = Hf$$"
   ]
  },
  {
   "cell_type": "code",
   "execution_count": 15,
   "id": "turkish-floating",
   "metadata": {},
   "outputs": [
    {
     "data": {
      "text/plain": [
       "<matplotlib.legend.Legend at 0x20e9c00f0a0>"
      ]
     },
     "execution_count": 15,
     "metadata": {},
     "output_type": "execute_result"
    }
   ],
   "source": [
    "y_data_spline = np.array([spl.smoothing_spline3(x, x_nodes, y_nodes, m_res) for x in x_data])\n",
    "\n",
    "plt.plot(x_data, y_data, label=r\"$f(x)$\")\n",
    "plt.plot(x_data, y_data_spline, label=r\"$s(x)$\")\n",
    "#plt.scatter(x_nodes, y_nodes)\n",
    "#plt.xlabel(\"x\")\n",
    "#plt.ylabel(\"y\")\n",
    "plt.title(f\"Сплайн при {n_intervals} проміжках\")\n",
    "plt.legend()\n",
    "\n",
    "#plt.savefig(f\"interpolation_spline_{n_intervals}.png\", dpi=300)"
   ]
  },
  {
   "cell_type": "code",
   "execution_count": 16,
   "id": "metropolitan-corrections",
   "metadata": {},
   "outputs": [
    {
     "data": {
      "text/plain": [
       "<matplotlib.legend.Legend at 0x20e9c028a30>"
      ]
     },
     "execution_count": 16,
     "metadata": {},
     "output_type": "execute_result"
    }
   ],
   "source": [
    "plt.plot(x_data, y_data - y_data_spline, label=r\"$f(x)-s(x)$\")\n",
    "plt.axhline(0, color='black', ls=\"--\")\n",
    "#plt.scatter(x_nodes, y_nodes)\n",
    "#plt.xlabel(\"x\")\n",
    "#plt.ylabel(\"y\")\n",
    "plt.title(f\"Похибка при {n_intervals} проміжках сплайну\")\n",
    "plt.legend()\n",
    "\n",
    "#plt.savefig(f\"error_spline_{n_intervals}.png\", dpi=300)"
   ]
  },
  {
   "cell_type": "code",
   "execution_count": null,
   "id": "alternate-geology",
   "metadata": {},
   "outputs": [],
   "source": []
  }
 ],
 "metadata": {
  "kernelspec": {
   "display_name": "Python 3",
   "language": "python",
   "name": "python3"
  },
  "language_info": {
   "codemirror_mode": {
    "name": "ipython",
    "version": 3
   },
   "file_extension": ".py",
   "mimetype": "text/x-python",
   "name": "python",
   "nbconvert_exporter": "python",
   "pygments_lexer": "ipython3",
   "version": "3.8.5"
  }
 },
 "nbformat": 4,
 "nbformat_minor": 5
}
