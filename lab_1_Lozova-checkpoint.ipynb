{
 "cells": [
  {
   "cell_type": "markdown",
   "id": "80419921",
   "metadata": {},
   "source": [
    "# Lab work №1 “Huffman encoding and decoding” "
   ]
  },
  {
   "cell_type": "markdown",
   "id": "049c4df4",
   "metadata": {},
   "source": [
    "work was prepared by Student of “Artificial Intelligence” program Violetta Lozova"
   ]
  },
  {
   "cell_type": "markdown",
   "id": "ec067b4a",
   "metadata": {},
   "source": [
    "## Huffman Coding in general"
   ]
  },
  {
   "cell_type": "markdown",
   "id": "7aeaa192",
   "metadata": {},
   "source": [
    "Huffman coding is a lossless data compression algorithm. This algorithm assigns variable-length codes to input symbols. The length of such codes is based on the frequencies of the corresponding symbols. The most frequent character gets the least code, and vice versa.\n",
    "Variable length codes assigned to input characters are prefix codes. Therefore, assigned to one character is not a code prefix assigned to any other character. In this way, Huffman coding ensures that there are no uncertain situations when decoding the generated bit stream. \n",
    "\n",
    "Here are basically two main parts in Huffman Coding :\n",
    "1) Build a Guffman Tree from the characters entered. \n",
    "2) Go through the Huffman tree and assign codes to characters."
   ]
  },
  {
   "cell_type": "markdown",
   "id": "62a304b4",
   "metadata": {},
   "source": [
    "## Huffman Tree"
   ]
  },
  {
   "cell_type": "markdown",
   "id": "21749d20",
   "metadata": {},
   "source": [
    "1) Creating a leaf node for each unique character and build a min heap of all leaf nodes (Min Heap is used as a priority queue. The value of frequency field is used to compare two nodes in min heap)\n",
    "\n",
    "2) Extracting two nodes with the minimum frequency from the min heap.\n",
    " \n",
    "3) Creating a new internal node with a frequency equal to the sum of the two nodes frequencies. Make the first extracted node as its left child and the other extracted node as its right child. Add this node to the min heap.\n",
    "\n",
    "4) Repeat steps#2 and #3 until the heap contains only one node. The remaining node is the root node and the tree is complete.\n"
   ]
  },
  {
   "cell_type": "markdown",
   "id": "1210bf9d",
   "metadata": {},
   "source": [
    "## Decoding "
   ]
  },
  {
   "cell_type": "markdown",
   "id": "a30311f7",
   "metadata": {},
   "source": [
    "Traverse the tree formed starting from the root. Maintain an auxiliary array. While moving to the left child, write 0 to the array. While moving to the right child, write 1 to the array. Print the array when a leaf node is encountered."
   ]
  },
  {
   "cell_type": "markdown",
   "id": "a2abbc39",
   "metadata": {},
   "source": [
    "## Time complexity"
   ]
  },
  {
   "cell_type": "markdown",
   "id": "06278575",
   "metadata": {},
   "source": [
    "The time complexity for encoding each unique character based on its frequency is O(nlog n).\n",
    "\n",
    "Extracting minimum frequency from the priority queue takes place 2*(n-1) times and its complexity is O(log n). Thus the overall complexity is O(nlog n).\n",
    "\n"
   ]
  },
  {
   "cell_type": "code",
   "execution_count": 1,
   "id": "5bfcf27f",
   "metadata": {},
   "outputs": [],
   "source": [
    "import sys\n",
    "import heapq\n",
    "from collections import Counter\n",
    "from collections import namedtuple"
   ]
  },
  {
   "cell_type": "code",
   "execution_count": 2,
   "id": "b1a0835c",
   "metadata": {},
   "outputs": [],
   "source": [
    "# class for tree branches - internal nodes; they have childrens\n",
    "class Node(namedtuple(\"Node\", [\"left\", \"right\"])):  \n",
    "    # to traverse the tree we need to go to the left child by adding \"0\" \n",
    "    # to the prefix, then go to the right child by adding \"1\" to the prefix\n",
    "    def walk(self, code, acc):\n",
    "        self.left.walk(code, acc + \"0\")  \n",
    "        self.right.walk(code, acc + \"1\")  "
   ]
  },
  {
   "cell_type": "code",
   "execution_count": 3,
   "id": "1f603d93",
   "metadata": {},
   "outputs": [],
   "source": [
    "# class for the leaves of the tree, it has no children, but there is a symbol value\n",
    "class Leaf(namedtuple(\"Leaf\", [\"char\"])):  \n",
    "    def walk(self, code, acc):\n",
    "        code[self.char] = acc or \"0\""
   ]
  },
  {
   "cell_type": "code",
   "execution_count": 4,
   "id": "278f73ce",
   "metadata": {},
   "outputs": [],
   "source": [
    "# coding function into Huffman codes\n",
    "def huffman_encode(s):  \n",
    "    h = []  \n",
    "    for ch, freq in Counter(s).items(): \n",
    "        h.append((freq, len(h), Leaf(ch)))  \n",
    "    # the queue will be represented by the frequency \n",
    "    # of the character, the counter and the character itself \n",
    "    heapq.heapify(h) \n",
    "    count = len(h) \n",
    "    while len(h) > 1:  \n",
    "        freq1, _count1, left = heapq.heappop(h)  \n",
    "        freq2, _count2, right = heapq.heappop(h)  \n",
    "        heapq.heappush(h, (freq1 + freq2, count, Node(left, right))) \n",
    "                                                                     \n",
    "        count += 1  \n",
    "    code = {} \n",
    "    if h:  \n",
    "        [(_freq, _count, root)] = h\n",
    "        root.walk(code, \"\")  \n",
    "    return code  "
   ]
  },
  {
   "cell_type": "code",
   "execution_count": 5,
   "id": "18f5500e",
   "metadata": {},
   "outputs": [],
   "source": [
    "# decoding function for source string using Huffman codes\n",
    "def huffman_decode(encoded, code):  \n",
    "    sx = []  \n",
    "    enc_ch = \"\"  \n",
    "    for ch in encoded:  \n",
    "        enc_ch += ch \n",
    "        for dec_ch in code:  \n",
    "            if code.get(dec_ch) == enc_ch: \n",
    "                sx.append(dec_ch)  \n",
    "                enc_ch = \"\"  \n",
    "                break\n",
    "    return \"\".join(sx)  "
   ]
  },
  {
   "cell_type": "code",
   "execution_count": 30,
   "id": "21dcb401",
   "metadata": {},
   "outputs": [
    {
     "name": "stdout",
     "output_type": "stream",
     "text": [
      "Enter your text here:\n",
      "An inert gas is a gas that does not readily undergo chemical reactions with other chemical substances and therefore does not readily form chemical compounds. The noble gases often do not react with many substances[1] and were historically referred to as the inert gases. Inert gases are used generally to avoid unwanted chemical reactions degrading a sample. These undesirable chemical reactions are often oxidation and hydrolysis reactions with the oxygen and moisture in air. The term inert gas is context-dependent because several of the noble gases can be made to react under certain conditions.  Purified argon gas is the most commonly used inert gas due to its high natural abundance (78.3% N2, 1% Ar in air) and low relative cost.  Unlike noble gases, an inert gas is not necessarily elemental and is often a compound gas. Like the noble gases, the tendency for non-reactivity is due to the valence, the outermost electron shell, being complete in all the inert gases.[2] This is a tendency, not a rule, as noble gases and other \"inert\" gases can react to form compounds.\n",
      "\n",
      "\n",
      "45 4603\n",
      " : 111\n",
      "\": 011111000\n",
      "%: 011110101\n",
      "(: 0111110100\n",
      "): 0111111001\n",
      ",: 0001110\n",
      "-: 011110100\n",
      ".: 1101111\n",
      "1: 011110010\n",
      "2: 011110110\n",
      "3: 0111110111\n",
      "7: 0111110101\n",
      "8: 0111110110\n",
      "A: 011110000\n",
      "I: 0111110010\n",
      "L: 0111111011\n",
      "N: 0111111000\n",
      "P: 0111110011\n",
      "T: 00011111\n",
      "U: 0111111010\n",
      "[: 011110001\n",
      "]: 011110011\n",
      "a: 1100\n",
      "b: 000100\n",
      "c: 11010\n",
      "d: 10101\n",
      "e: 010\n",
      "f: 1101110\n",
      "g: 00001\n",
      "h: 01110\n",
      "i: 0011\n",
      "k: 011110111\n",
      "l: 10100\n",
      "m: 00000\n",
      "n: 1011\n",
      "o: 0110\n",
      "p: 0001011\n",
      "r: 0010\n",
      "s: 1000\n",
      "t: 1001\n",
      "u: 110110\n",
      "v: 01111111\n",
      "w: 0001010\n",
      "x: 00011110\n",
      "y: 000110\n",
      "\n",
      "\n",
      "Coded text : 0111100001011111001110110100010100111100001110010001110011100011111001110000111001000111100101110110010011111010101100101000111101101101001111001001011001010100111010000011011111011010111010101000100000101101111101001110010000000011110101100101001110010010110011010100100110110101110001110001010001110010111011101101001011100100010111110100111001000000001111010110010100111100011011000010010001001110010111101001010001111100101110101111100101110010001001011011100110001001011110101011001010001111011011010011110010010110010101001110100000110111110111001100010000001111101001110010000000011110101100101001111101001100000000010110110110110101110101100011011111110001111101110010111101101100001001010001011100001110010000101000111011011011101001010101111110101011011110110110100111100100101100110101001111000101000111001011101110000011001011000110111100011011000010010001001110010111101001010000111100010111100100111100111111100101110101111000101001000100101110111000111000100101100010001111010110010100101000001101110010010110111001000100010010101011111001011011111001000111100101110010111001110110100010100111100001110010000101000110111111101111100101011010001010011110000111001000010100011111000010010111110110100001010101111000010101011010001011001010010100000110111100101101111100011111110110001110101111110110101100010101100101110010101010111111010011100100000000111101011001010011100100101100110101001001101101011100011110101010000010010110010101001110110000111111001111000110000000000101110100010110111111100011111011100101000010111110110101110101010100000110010110000010010100010111110100111001000000001111010110010100111001001011001101010010011011010111000111110000100101110110110111010010101011111011000011110001110101110010010011011010111111100101110101111011100001101010100100110101000001101000001110001110010010110011010100100110110101110001110001010001110010111011110010111001011101100001111000011000001010101111111001011101011110000001100011100010011101100010010111001110111111100001100101101111111000111110111001011110010100010000001110011101101000101001111000011100100011100111000111110100110101110010100001111010010111101001010101000010110101011101010101011100111100010001011010110011011010000101111000010011111110100010110010100111011011011101111001011100101111011011000010010100010111000011100100001010001111101011001011111000100010111000001100101010101111001011011100100101100110101001111110110101110101010001011111010010001010011100001110111111101001101011101010011100100110110101110001101111111111011111001111011000100011110111000110101010111111000010000010110101111100001110010001110011100011110010111001011100000011010001001111110100110000000000001101011101000001101111101101000010101011110011101101000101001111000011100100011110101110110010111100101101110011100110001110111000110000101110111101111001001110110001011001010011111000001001101101011101011100101111010010111011111010001111101010111110110110111101111101110111101011110111111000011110110000111011101111001001111010111101111000000101110011101111111000011001001111110011111100101110101111101000110000101011100100101010011001001001101111111010111110100110100010011101111111111011111101010111010000110111101110101111011011000010010100010111000011100100001010000001110111110010111110011101101000101001111000011100100011100111000111101101101001111101101011010010100010001100001000111010000011011101010100010000000101011100111001010011111001011101011110011100011101101101110100101010111111100111110100110000000001011011011011010111010111100001110010001101111111011111101100110111101110101111001011100101111011011000010010100010111000011100100001010000001110111100101110010111100101010111010101010111101000011011111011100110001011110110110101101111010000100101100110101001001101111111001110010001101110011100011110101110110010111100101101111001011100101110111111111001010001010111101001000011101111001011100101110110110110100101000100000001101000100111101010100010110101001001001101011111100001110010101001010000011101110001000100011101100001111110100110000000001011101000101001010111001110111111100101001010011110010111001011100111011010001010011110000111001000010100011011110111100010111101100111100111110001111101110001110001110011100011111001111001010101110101010101111010000110000111011110110110100111111001110010110110101000100001110111110010001111011011000010010100010111000011100100001010001111100101110101111011010010111001000101110111110000011101101000101001011111000111000011100100001010001111101011001011111001001011001101010011111001011011111011100110001000000111110100110000000001011011011011010111010110001101111\n",
      "\n",
      "Decoded text : ' An inert gas is a gas that does not readily undergo chemical reactions with other chemical substances and therefore does not readily form chemical compounds. The noble gases often do not react with many substances[1] and were historically referred to as the inert gases. Inert gases are used generally to avoid unwanted chemical reactions degrading a sample. These undesirable chemical reactions are often oxidation and hydrolysis reactions with the oxygen and moisture in air. The term inert gas is context-dependent because several of the noble gases can be made to react under certain conditions.  Purified argon gas is the most commonly used inert gas due to its high natural abundance (78.3% N2, 1% Ar in air) and low relative cost.  Unlike noble gases, an inert gas is not necessarily elemental and is often a compound gas. Like the noble gases, the tendency for non-reactivity is due to the valence, the outermost electron shell, being complete in all the inert gases.[2] This is a tendency, not a rule, as noble gases and other \"inert\" gases can react to form compounds.'\n",
      "\n",
      "\n",
      "Size of input text is : ' 8624'.\n",
      "Size of encoded text is :'4603'.\n",
      "We get about 47% data compression.\n"
     ]
    }
   ],
   "source": [
    "def main():\n",
    "    print (\"Enter your text here:\")\n",
    "    s = input() \n",
    "    print('\\n')\n",
    "    code = huffman_encode(s)  \n",
    "    encoded = \"\".join(code[ch] for ch in s) \n",
    "                                             \n",
    "    print(len(code), len(encoded)) # num of char and len of encoded string\n",
    "\n",
    "    for ch in sorted(code): \n",
    "        print(\"{}: {}\".format(ch, code[ch]))  \n",
    "\n",
    "    print('\\n')\n",
    "    decoded = huffman_decode(encoded, code)\n",
    "    assert decoded == s \n",
    "    \n",
    "    print(f\"Coded text : {encoded}\")\n",
    "    print(f\"\\nDecoded text : ' {decoded}'\")\n",
    "    \n",
    "    size_of_input = len(s)*8\n",
    "    size_of_output = len(encoded)\n",
    "    delta = round(100 - (size_of_output / size_of_input)*100)\n",
    "    \n",
    "    print('\\n')\n",
    "    print(f\"Size of input text is : ' {size_of_input}'.\\nSize of encoded text is :'{size_of_output}'.\\nWe get about {delta}% data compression.\")\n",
    "    \n",
    "if __name__ == \"__main__\":\n",
    "    main()"
   ]
  },
  {
   "cell_type": "markdown",
   "id": "db466952",
   "metadata": {},
   "source": [
    "As we can see, the decoded text matches the input text. So the algorithm works correctly."
   ]
  },
  {
   "cell_type": "markdown",
   "id": "4c07bc03",
   "metadata": {},
   "source": [
    "Tested on text from wiki https://en.wikipedia.org/wiki/Inert_gas"
   ]
  }
 ],
 "metadata": {
  "kernelspec": {
   "display_name": "Python 3 (ipykernel)",
   "language": "python",
   "name": "python3"
  },
  "language_info": {
   "codemirror_mode": {
    "name": "ipython",
    "version": 3
   },
   "file_extension": ".py",
   "mimetype": "text/x-python",
   "name": "python",
   "nbconvert_exporter": "python",
   "pygments_lexer": "ipython3",
   "version": "3.9.12"
  }
 },
 "nbformat": 4,
 "nbformat_minor": 5
}
