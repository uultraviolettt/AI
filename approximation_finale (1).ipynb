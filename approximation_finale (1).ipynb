{
 "cells": [
  {
   "cell_type": "code",
   "execution_count": 26,
   "id": "based-civilian",
   "metadata": {},
   "outputs": [],
   "source": [
    "from target_func import f as f\n",
    "import numpy as np\n",
    "import matplotlib.pyplot as plt\n",
    "import math\n",
    "import scipy.integrate as integrate\n",
    "import spline as sms"
   ]
  },
  {
   "cell_type": "code",
   "execution_count": 27,
   "id": "environmental-paper",
   "metadata": {},
   "outputs": [],
   "source": [
    "max_degree = 20\n",
    "n_func = max_degree + 1\n",
    "\n",
    "left = -3\n",
    "right = 3"
   ]
  },
  {
   "cell_type": "markdown",
   "id": "surrounded-permission",
   "metadata": {},
   "source": [
    "# $x^ i$"
   ]
  },
  {
   "cell_type": "code",
   "execution_count": 28,
   "id": "governmental-observation",
   "metadata": {},
   "outputs": [],
   "source": [
    "def base_prod(i, j, a, b):\n",
    "    return (\n",
    "        ((b**(i + j + 1)) - (a**(i + j + 1))) \n",
    "        / (i + j  +1)\n",
    "    )"
   ]
  },
  {
   "cell_type": "code",
   "execution_count": 29,
   "id": "peaceful-return",
   "metadata": {},
   "outputs": [
    {
     "name": "stdout",
     "output_type": "stream",
     "text": [
      "Ok\n"
     ]
    }
   ],
   "source": [
    "A_xi = (\n",
    "    np.array([[base_prod(i, j, left, right) for j in range(n_func)] for i in range(n_func)])\n",
    ")\n",
    "\n",
    "b_xi = np.array([integrate.quad(lambda x: f(x) * x**i, left, right)[0] for i in range(n_func)])\n",
    "\n",
    "x_sol_xi = np.linalg.solve(A_xi, b_xi)\n",
    "\n",
    "# check truthness\n",
    "cond_xi = np.allclose(np.dot(A_xi, x_sol_xi), b_xi)\n",
    "\n",
    "if cond_xi:\n",
    "    print(\"Ok\")"
   ]
  },
  {
   "cell_type": "code",
   "execution_count": 30,
   "id": "prescription-detective",
   "metadata": {},
   "outputs": [
    {
     "name": "stdout",
     "output_type": "stream",
     "text": [
      "i        c_i       \n",
      "-        ---       \n",
      "0        1.624     \n",
      "1        -0.821    \n",
      "2        -2.641    \n",
      "3        3.288     \n",
      "4        3.765     \n",
      "5        -6.239    \n",
      "6        -3.798    \n",
      "7        5.37      \n",
      "8        2.529     \n",
      "9        -2.5      \n",
      "10       -1.038    \n",
      "11       0.686     \n",
      "12       0.264     \n",
      "13       -0.114    \n",
      "14       -0.042    \n",
      "15       0.011     \n",
      "16       0.004     \n",
      "17       -0.001    \n",
      "18       -0.0      \n",
      "19       0.0       \n",
      "20       0.0       \n"
     ]
    }
   ],
   "source": [
    "# for print\n",
    "print(\"{:<8} {:<10}\".format(\"i\",\"c_i\"))\n",
    "print(\"{:<8} {:<10}\".format(\"-\",\"---\"))\n",
    "      \n",
    "i = 0\n",
    "for el in x_sol_xi:\n",
    "    print(\"{:<8} {:<10}\".format(i, round(el, 3)))\n",
    "    i += 1"
   ]
  },
  {
   "cell_type": "code",
   "execution_count": 31,
   "id": "foreign-norwegian",
   "metadata": {},
   "outputs": [],
   "source": [
    "def pol_xi(x, coefs):\n",
    "    n = len(coefs)\n",
    "    \n",
    "    pol = 0\n",
    "    for i in range(n):\n",
    "        pol += coefs[i] * x**i\n",
    "        \n",
    "    return pol"
   ]
  },
  {
   "cell_type": "markdown",
   "id": "attractive-murray",
   "metadata": {},
   "source": [
    "$$ Q_{x^i}(x) = \\sum_{i=0}^n c_i \\varphi_i $$"
   ]
  },
  {
   "cell_type": "code",
   "execution_count": 32,
   "id": "matched-limit",
   "metadata": {},
   "outputs": [],
   "source": [
    "err_xi = round(np.sqrt(integrate.quad(lambda x: (f(x) - pol_xi(x, x_sol_xi))**2, -3 ,3)[0]), 3)"
   ]
  },
  {
   "cell_type": "code",
   "execution_count": 33,
   "id": "single-october",
   "metadata": {},
   "outputs": [
    {
     "data": {
      "text/plain": [
       "<matplotlib.legend.Legend at 0x16b7bf2b4c0>"
      ]
     },
     "execution_count": 33,
     "metadata": {},
     "output_type": "execute_result"
    },
    {
     "data": {
      "image/png": "[encoded data removed]",
      "text/plain": [
       "<Figure size 432x288 with 1 Axes>"
      ]
     },
     "metadata": {
      "needs_background": "light"
     },
     "output_type": "display_data"
    }
   ],
   "source": [
    "x_data = np.arange(left, right, 0.01)\n",
    "y_data = [f(x) for x in x_data]\n",
    "y_data_approx_xi = [pol_xi(x, x_sol_xi) for x in x_data]\n",
    "\n",
    "plt.plot(x_data, y_data, label=\"$f(x)$\")\n",
    "plt.plot(x_data, y_data_approx_xi, label=\"$\\Phi_{n}^{0}(x)$\")\n",
    "plt.title(fr\"$x^i$ для n={max_degree}\")\n",
    "plt.text(-3,0, f\"$\\Delta(f, \\Phi_n^0)={err_xi}$\")\n",
    "plt.legend()\n",
    "\n",
    "#plt.savefig(f\"algebraic_poly_f_q_{n_func}.png\", dpi=300)  # render image"
   ]
  },
  {
   "cell_type": "markdown",
   "id": "acquired-mistake",
   "metadata": {},
   "source": [
    "# $\\sin(ix), \\cos(ix)$"
   ]
  },
  {
   "cell_type": "code",
   "execution_count": 34,
   "id": "driving-nightmare",
   "metadata": {},
   "outputs": [],
   "source": [
    "trig_degree = 50\n",
    "n_func = 2 * trig_degree + 1"
   ]
  },
  {
   "cell_type": "code",
   "execution_count": 35,
   "id": "clear-network",
   "metadata": {},
   "outputs": [],
   "source": [
    "def trig_base(x, i: int):\n",
    "    if i == 0:\n",
    "        return 1\n",
    "\n",
    "    if i % 2 == 0:\n",
    "        k = int(i / 2)\n",
    "        return np.sin(k * x)\n",
    "    \n",
    "    k = int(i / 2) + 1\n",
    "    \n",
    "    return np.cos(k * x)"
   ]
  },
  {
   "cell_type": "markdown",
   "id": "amber-migration",
   "metadata": {},
   "source": [
    "$$ x(t) = \\frac{3t}{\\pi}, t \\in [-\\pi, \\pi] $$\n",
    "$$ x(-\\pi) = -3, x(\\pi) = 3 $$"
   ]
  },
  {
   "cell_type": "code",
   "execution_count": 36,
   "id": "arabic-feedback",
   "metadata": {},
   "outputs": [],
   "source": [
    "def trig_base_norm(i: int):\n",
    "    if i == 0:\n",
    "        return 2 * np.pi\n",
    "    \n",
    "    return np.pi"
   ]
  },
  {
   "cell_type": "code",
   "execution_count": 37,
   "id": "particular-dover",
   "metadata": {},
   "outputs": [],
   "source": [
    "# main\n",
    "def x_(t):\n",
    "    return  3 * t / np.pi\n",
    "\n",
    "def t_(x):\n",
    "    return np.pi * x / 3\n",
    "\n",
    "c_main = [integrate.quad(lambda t: trig_base(t, i) * f(x_(t)), -np.pi, np.pi)[0]\n",
    "              / trig_base_norm(i) for i in range(n_func)]"
   ]
  },
  {
   "cell_type": "code",
   "execution_count": 38,
   "id": "stopped-thriller",
   "metadata": {},
   "outputs": [],
   "source": [
    "# # other\n",
    "# A_trig = np.zeros((n_func, n_func))\n",
    "# for i in range(n_func):\n",
    "#     for j in range(n_func):\n",
    "#         A_trig[i][j] = integrate.quad(lambda x: trig_base(x, i) * trig_base(x, j), -3, 3)[0]\n",
    "\n",
    "# b_trig = np.zeros(n_func)\n",
    "# for i in range(n_func):\n",
    "#     b_trig[i] = integrate.quad(lambda x: trig_base(x, i) * f(x), -3, 3)[0]\n",
    "\n",
    "# c_other = np.linalg.solve(A_trig, b_trig)"
   ]
  },
  {
   "cell_type": "code",
   "execution_count": 39,
   "id": "american-sailing",
   "metadata": {},
   "outputs": [],
   "source": [
    "# # for print\n",
    "# print(\"{:<8} {:<10}\".format(\"i\",\"c_i\"))\n",
    "      \n",
    "# i = 0\n",
    "# for el in c_main:\n",
    "#     print(\"{:<8} {:<10}\".format(i, round(el, 3)))\n",
    "#     i += 1"
   ]
  },
  {
   "cell_type": "markdown",
   "id": "blind-mineral",
   "metadata": {},
   "source": [
    "$$ Q(x)_{trig} = \\sum_{i=0}^n c_i \\varphi_i$$"
   ]
  },
  {
   "cell_type": "code",
   "execution_count": 40,
   "id": "suspended-looking",
   "metadata": {},
   "outputs": [],
   "source": [
    "def pol_trig(x, coefs):\n",
    "    n = len(coefs)\n",
    "    \n",
    "    pol = 0\n",
    "    \n",
    "    pol += coefs[0]\n",
    "    \n",
    "    for i in range(1, n):\n",
    "        pol += coefs[i] * trig_base(x, i)\n",
    "        \n",
    "    return pol"
   ]
  },
  {
   "cell_type": "code",
   "execution_count": 41,
   "id": "sound-fiction",
   "metadata": {},
   "outputs": [],
   "source": [
    "err_trig1 = round(np.sqrt(integrate.quad(lambda x: (f(x) - pol_trig(t_(x), c_main))**2, -3, 0, ))[0], 3)\n",
    "err_trig2 = round(np.sqrt(integrate.quad(lambda x: (f(x) - pol_trig(t_(x), c_main))**2, 0, 3, ))[0], 3)"
   ]
  },
  {
   "cell_type": "code",
   "execution_count": 42,
   "id": "comic-lingerie",
   "metadata": {},
   "outputs": [
    {
     "data": {
      "image/png": "[encoded data removed]",
      "text/plain": [
       "<Figure size 432x288 with 1 Axes>"
      ]
     },
     "metadata": {
      "needs_background": "light"
     },
     "output_type": "display_data"
    }
   ],
   "source": [
    "#y_data_trig_other = [pol_trig(x, c_other) for x in x_data]\n",
    "y_data_trig_main = [pol_trig(t_(x), c_main) for x in x_data]\n",
    "\n",
    "plt.plot(x_data, y_data, label=\"$f(x)$\")\n",
    "plt.plot(x_data, y_data_trig_main, label=\"$\\Phi_{n}^{0}(x)$\")\n",
    "plt.title(f\"$\\sin(nx), \\cos(nx)$ для n={trig_degree}\")\n",
    "plt.text(-3,0, f\"$\\Delta(f, \\Phi_n^0)={err_trig1 + err_trig2}$\")\n",
    "plt.legend()\n",
    "\n",
    "plt.savefig(f\"trig_approx_{n_func}.png\", dpi=300)  # render image"
   ]
  },
  {
   "cell_type": "markdown",
   "id": "moved-nightmare",
   "metadata": {},
   "source": [
    "# Згладж сплайн"
   ]
  },
  {
   "cell_type": "code",
   "execution_count": 43,
   "id": "graduate-array",
   "metadata": {
    "collapsed": false,
    "jupyter": {
     "outputs_hidden": false
    },
    "pycharm": {
     "name": "#%%\n"
    }
   },
   "outputs": [],
   "source": [
    "n_intervals = 50\n",
    "n = n_intervals + 1\n",
    "x_nodes = np.linspace(-3, 3, n)\n",
    "y_nodes = [f(x) for x in x_nodes]\n",
    "\n",
    "rho = 1\n",
    "rho_i = [rho for _ in range(n)]"
   ]
  },
  {
   "cell_type": "code",
   "execution_count": 44,
   "id": "organizational-sleeve",
   "metadata": {
    "collapsed": false,
    "jupyter": {
     "outputs_hidden": false
    },
    "pycharm": {
     "name": "#%%\n"
    }
   },
   "outputs": [],
   "source": [
    "A = sms.mat_a(x_nodes)\n",
    "H = sms.mat_h(x_nodes)\n",
    "R = sms.mat_r(rho_i)\n",
    "f_ = y_nodes"
   ]
  },
  {
   "cell_type": "code",
   "execution_count": 45,
   "id": "collaborative-profit",
   "metadata": {
    "collapsed": false,
    "jupyter": {
     "outputs_hidden": false
    },
    "pycharm": {
     "name": "#%%\n"
    }
   },
   "outputs": [],
   "source": [
    "left_part = A + (H @ np.linalg.inv(R) @ H.T)\n",
    "right_part = H @ f_\n",
    "m_res = np.linalg.solve(left_part, right_part)"
   ]
  },
  {
   "cell_type": "code",
   "execution_count": 46,
   "id": "wooden-seeker",
   "metadata": {
    "collapsed": false,
    "jupyter": {
     "outputs_hidden": false
    },
    "pycharm": {
     "name": "#%%\n"
    }
   },
   "outputs": [],
   "source": [
    "mu = f_ - (np.linalg.inv(R) @ H.T @ m_res)"
   ]
  },
  {
   "cell_type": "code",
   "execution_count": 47,
   "id": "forward-hampshire",
   "metadata": {
    "collapsed": false,
    "jupyter": {
     "outputs_hidden": false
    },
    "pycharm": {
     "name": "#%%\n"
    }
   },
   "outputs": [],
   "source": [
    "error_val = round(np.sqrt(integrate.quad(lambda x: (f(x) - sms.smoothing_spline3(x, x_nodes, mu, m_res))**2, -3 ,3)[0]), 3)"
   ]
  },
  {
   "cell_type": "code",
   "execution_count": 48,
   "id": "musical-purse",
   "metadata": {
    "collapsed": false,
    "jupyter": {
     "outputs_hidden": false
    },
    "pycharm": {
     "name": "#%%\n"
    }
   },
   "outputs": [
    {
     "data": {
      "image/png": "[encoded data removed]",
      "text/plain": [
       "<Figure size 432x288 with 1 Axes>"
      ]
     },
     "metadata": {
      "needs_background": "light"
     },
     "output_type": "display_data"
    }
   ],
   "source": [
    "y_data_spline = [sms.smoothing_spline3(x, x_nodes, mu, m_res) for x in x_data]\n",
    "\n",
    "plt.plot(x_data, y_data, label=r\"$f(x)$\")\n",
    "plt.plot(x_data, y_data_spline, label=r\"$s(x)$\")\n",
    "plt.title(f\"Аппроксимація згладж. сплайном за {n_intervals} інтервалами\")\n",
    "plt.text(-3,0, f\"$\\Delta(f, s)={error_val}$\")\n",
    "plt.text(-3,0.5, fr\"$\\rho={rho}$\")\n",
    "plt.legend()\n",
    "\n",
    "plt.savefig(f\"Smoothin_{n}_rho_{rho}.png\", dpi=300)  # render image"
   ]
  },
  {
   "cell_type": "code",
   "execution_count": null,
   "id": "underlying-event",
   "metadata": {},
   "outputs": [],
   "source": []
  },
  {
   "cell_type": "code",
   "execution_count": null,
   "id": "studied-airfare",
   "metadata": {},
   "outputs": [],
   "source": []
  }
 ],
 "metadata": {
  "kernelspec": {
   "display_name": "Python 3",
   "language": "python",
   "name": "python3"
  },
  "language_info": {
   "codemirror_mode": {
    "name": "ipython",
    "version": 3
   },
   "file_extension": ".py",
   "mimetype": "text/x-python",
   "name": "python",
   "nbconvert_exporter": "python",
   "pygments_lexer": "ipython3",
   "version": "3.8.5"
  }
 },
 "nbformat": 4,
 "nbformat_minor": 5
}
